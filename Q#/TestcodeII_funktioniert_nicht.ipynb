{
 "cells": [
  {
   "cell_type": "code",
   "execution_count": 8,
   "id": "6749883e",
   "metadata": {
    "vscode": {
     "languageId": "python"
    }
   },
   "outputs": [
    {
     "data": {
      "application/x-qsharp-data": "[\"CheckIfOracleIsBalanced\",\"RunDeutschJozsaAlgorithm\",\"ApplyZeroOracle\",\"ApplyOneOracle\",\"ApplyIdOracle\",\"ApplyNotOracle\"]",
      "text/html": [
       "<ul><li>CheckIfOracleIsBalanced</li><li>RunDeutschJozsaAlgorithm</li><li>ApplyZeroOracle</li><li>ApplyOneOracle</li><li>ApplyIdOracle</li><li>ApplyNotOracle</li></ul>"
      ],
      "text/plain": [
       "CheckIfOracleIsBalanced, RunDeutschJozsaAlgorithm, ApplyZeroOracle, ApplyOneOracle, ApplyIdOracle, ApplyNotOracle"
      ]
     },
     "execution_count": 8,
     "metadata": {
      "application/x-qsharp-data": {},
      "text/html": {},
      "text/plain": {}
     },
     "output_type": "execute_result"
    }
   ],
   "source": [
    "// Algorithm.qs: Sample code for Deutsch Jozsa algorithm (Chapter 8).\n",
    "//\n",
    "// Copyright (c) Sarah Kaiser and Cassandra Granade.\n",
    "// Code sample from the book \"Learn Quantum Computing with Python and Q#\" by\n",
    "// Sarah Kaiser and Cassandra Granade, published by Manning Publications Co.\n",
    "// Book ISBN 9781617296130.\n",
    "// Code licensed under the MIT License.\n",
    "\n",
    "\n",
    "    open Microsoft.Quantum.Intrinsic;\n",
    "    open Microsoft.Quantum.Measurement;\n",
    "    open Microsoft.Quantum.Diagnostics;\n",
    "    \n",
    "    operation CheckIfOracleIsBalanced(oracle : ((Qubit, Qubit) => Unit))\n",
    "    : Bool {\n",
    "        use control = Qubit();\n",
    "        use target = Qubit();\n",
    "\n",
    "        H(control);\n",
    "        X(target);\n",
    "        H(target);\n",
    "\n",
    "        oracle(control, target);\n",
    "\n",
    "        H(target);\n",
    "        X(target);\n",
    "\n",
    "        return MResetX(control) == One;\n",
    "    }\n",
    "\n",
    "    operation RunDeutschJozsaAlgorithm() : Unit {\n",
    "        Fact(not CheckIfOracleIsBalanced(ApplyZeroOracle),\n",
    "            \"Test failed for zero oracle.\");\n",
    "        Fact(not CheckIfOracleIsBalanced(ApplyOneOracle),\n",
    "            \"Test failed for one oracle.\");\n",
    "        Fact(CheckIfOracleIsBalanced(ApplyIdOracle),\n",
    "            \"Test failed for id oracle.\");\n",
    "        Fact(CheckIfOracleIsBalanced(ApplyNotOracle),\n",
    "            \"Test failed for not oracle.\");\n",
    "\n",
    "        Message(\"All tests passed!\");\n",
    "    }\n",
    "\n",
    "\n",
    "\n",
    "    operation ApplyZeroOracle(control : Qubit, target : Qubit) : Unit {\n",
    "    }\n",
    "\n",
    "    operation ApplyOneOracle(control : Qubit, target : Qubit) : Unit {\n",
    "        X(target);\n",
    "    }\n",
    "\n",
    "    operation ApplyIdOracle(control : Qubit, target : Qubit) : Unit {\n",
    "        CNOT(control, target);\n",
    "    }\n",
    "\n",
    "    operation ApplyNotOracle(control : Qubit, target : Qubit) : Unit {\n",
    "        X(control);\n",
    "        CNOT(control, target);\n",
    "        X(control);\n",
    "    }\n",
    "\n"
   ]
  },
  {
   "cell_type": "code",
   "execution_count": 9,
   "id": "455aa40d",
   "metadata": {
    "vscode": {
     "languageId": "python"
    }
   },
   "outputs": [
    {
     "data": {
      "application/x-qsharp-data": "{\"Source\":\"// Put q1 into an even superposition.\\n        H(q1);\",\"Diagnostic\":{\"range\":{\"start\":{\"line\":1,\"character\":8},\"end\":{\"line\":1,\"character\":9}},\"severity\":1,\"code\":\"QS4004\",\"source\":\"c:\\\\snippet_.qs\",\"message\":\"Statements can only occur within a callable or specialization declaration.\"},\"Hint\":null}",
      "text/html": [
       "<strong>Error QS4004</strong>: Statements can only occur within a callable or specialization declaration.\n",
       "<pre><code> 1 | // Put q1 into an even superposition.\n",
       " 2 |         <span style=\"font-weight: bold; text-decoration: underline; text-decoration-style: wavy; text-decoration-color: red\">H</span>(q1);</code></pre>"
      ],
      "text/plain": [
       "Error QS4004: Statements can only occur within a callable or specialization declaration.\n",
       " 1 | // Put q1 into an even superposition.\n",
       " 2 |         H(q1);\n",
       "   |         ^"
      ]
     },
     "metadata": {
      "application/x-qsharp-data": {},
      "text/html": {},
      "text/plain": {}
     },
     "output_type": "display_data"
    }
   ],
   "source": [
    "// Put q1 into an even superposition.\n",
    "        H(q1);"
   ]
  },
  {
   "cell_type": "code",
   "execution_count": 11,
   "id": "2bf64e59",
   "metadata": {
    "vscode": {
     "languageId": "python"
    }
   },
   "outputs": [
    {
     "data": {
      "application/x-qsharp-data": "{\"Source\":\"# Reset q1 and q2 to the 0 state.\\n        Reset(q1);\\n        Reset(q2);\",\"Diagnostic\":{\"range\":{\"start\":{\"line\":0,\"character\":0},\"end\":{\"line\":1,\"character\":17}},\"severity\":1,\"code\":\"QS3001\",\"source\":\"c:\\\\snippet_.qs\",\"message\":\"Syntax does not match any known patterns.\"},\"Hint\":null}",
      "text/html": [
       "<strong>Error QS3001</strong>: Syntax does not match any known patterns.\n",
       "<pre><code> 1 | # Reset q1 and q2 to the 0 state.\n",
       " 2 |         Reset(q1);</code></pre>"
      ],
      "text/plain": [
       "Error QS3001: Syntax does not match any known patterns.\n",
       " 1 | # Reset q1 and q2 to the 0 state.\n",
       " 2 |         Reset(q1);"
      ]
     },
     "metadata": {
      "application/x-qsharp-data": {},
      "text/html": {},
      "text/plain": {}
     },
     "output_type": "display_data"
    },
    {
     "data": {
      "application/x-qsharp-data": "{\"Source\":\"# Reset q1 and q2 to the 0 state.\\n        Reset(q1);\\n        Reset(q2);\",\"Diagnostic\":{\"range\":{\"start\":{\"line\":2,\"character\":8},\"end\":{\"line\":2,\"character\":13}},\"severity\":1,\"code\":\"QS4004\",\"source\":\"c:\\\\snippet_.qs\",\"message\":\"Statements can only occur within a callable or specialization declaration.\"},\"Hint\":null}",
      "text/html": [
       "<strong>Error QS4004</strong>: Statements can only occur within a callable or specialization declaration.\n",
       "<pre><code> 2 |         Reset(q1);\n",
       " 3 |         <span style=\"font-weight: bold; text-decoration: underline; text-decoration-style: wavy; text-decoration-color: red\">Reset</span>(q2);</code></pre>"
      ],
      "text/plain": [
       "Error QS4004: Statements can only occur within a callable or specialization declaration.\n",
       " 2 |         Reset(q1);\n",
       " 3 |         Reset(q2);\n",
       "   |         ^^^^^"
      ]
     },
     "metadata": {
      "application/x-qsharp-data": {},
      "text/html": {},
      "text/plain": {}
     },
     "output_type": "display_data"
    }
   ],
   "source": [
    "# Reset q1 and q2 to the 0 state.\n",
    "        Reset(q1);\n",
    "        Reset(q2);"
   ]
  },
  {
   "cell_type": "code",
   "execution_count": 12,
   "id": "c0af5bb0",
   "metadata": {
    "vscode": {
     "languageId": "python"
    }
   },
   "outputs": [
    {
     "data": {
      "application/x-qsharp-data": "{\"Source\":\"import Microsoft.Quantum.Diagnostics.*;\\n\\noperation Main() : (Result, Result) {  \\n    // Allocate two qubits, q1 and q2, in the 0 state.\\n    use (q1, q2) = (Qubit(), Qubit());\\n    \\n    // Put q1 into an even superposition.\\n    // It now has a 50% chance of being measured as 0 or 1.\\n    H(q1);\\n    \\n    // Entangle q1 and q2, making q2 depend on q1.\\n    CNOT(q1, q2);\\n    \\n    // Show the entangled state of the qubits.\\n    DumpMachine();\\n    \\n    // Measure q1 and q2 and store the results in m1 and m2.\\n    let (m1, m2) = (M(q1), M(q2));\\n    \\n    // Reset q1 and q2 to the 0 state.\\n    Reset(q1);\\n    Reset(q2);\\n    \\n    // Return the measurement results.\\n    return (m1, m2);\\n}\",\"Diagnostic\":{\"range\":{\"start\":{\"line\":0,\"character\":7},\"end\":{\"line\":0,\"character\":38}},\"severity\":1,\"code\":\"QS3035\",\"source\":\"c:\\\\snippet_.qs\",\"message\":\"Unexpected code fragment.\"},\"Hint\":null}",
      "text/html": [
       "<strong>Error QS3035</strong>: Unexpected code fragment.\n",
       "<pre><code> 1 | import <span style=\"font-weight: bold; text-decoration: underline; text-decoration-style: wavy; text-decoration-color: red\">Microsoft.Quantum.Diagnostics.*</span>;\n",
       " 2 | </code></pre>"
      ],
      "text/plain": [
       "Error QS3035: Unexpected code fragment.\n",
       " 1 | import Microsoft.Quantum.Diagnostics.*;\n",
       "   |        ^^^^^^^^^^^^^^^^^^^^^^^^^^^^^^^\n",
       " 2 | "
      ]
     },
     "metadata": {
      "application/x-qsharp-data": {},
      "text/html": {},
      "text/plain": {}
     },
     "output_type": "display_data"
    },
    {
     "data": {
      "application/x-qsharp-data": "{\"Source\":\"import Microsoft.Quantum.Diagnostics.*;\\n\\noperation Main() : (Result, Result) {  \\n    // Allocate two qubits, q1 and q2, in the 0 state.\\n    use (q1, q2) = (Qubit(), Qubit());\\n    \\n    // Put q1 into an even superposition.\\n    // It now has a 50% chance of being measured as 0 or 1.\\n    H(q1);\\n    \\n    // Entangle q1 and q2, making q2 depend on q1.\\n    CNOT(q1, q2);\\n    \\n    // Show the entangled state of the qubits.\\n    DumpMachine();\\n    \\n    // Measure q1 and q2 and store the results in m1 and m2.\\n    let (m1, m2) = (M(q1), M(q2));\\n    \\n    // Reset q1 and q2 to the 0 state.\\n    Reset(q1);\\n    Reset(q2);\\n    \\n    // Return the measurement results.\\n    return (m1, m2);\\n}\",\"Diagnostic\":{\"range\":{\"start\":{\"line\":0,\"character\":0},\"end\":{\"line\":0,\"character\":6}},\"severity\":1,\"code\":\"QS3036\",\"source\":\"c:\\\\snippet_.qs\",\"message\":\"An expression used as a statement must be a call expression.\"},\"Hint\":null}",
      "text/html": [
       "<strong>Error QS3036</strong>: An expression used as a statement must be a call expression.\n",
       "<pre><code> 1 | <span style=\"font-weight: bold; text-decoration: underline; text-decoration-style: wavy; text-decoration-color: red\">import</span> Microsoft.Quantum.Diagnostics.*;\n",
       " 2 | </code></pre>"
      ],
      "text/plain": [
       "Error QS3036: An expression used as a statement must be a call expression.\n",
       " 1 | import Microsoft.Quantum.Diagnostics.*;\n",
       "   | ^^^^^^\n",
       " 2 | "
      ]
     },
     "metadata": {
      "application/x-qsharp-data": {},
      "text/html": {},
      "text/plain": {}
     },
     "output_type": "display_data"
    }
   ],
   "source": [
    "import Microsoft.Quantum.Diagnostics.*;\n",
    "\n",
    "operation Main() : (Result, Result) {  \n",
    "    // Allocate two qubits, q1 and q2, in the 0 state.\n",
    "    use (q1, q2) = (Qubit(), Qubit());\n",
    "    \n",
    "    // Put q1 into an even superposition.\n",
    "    // It now has a 50% chance of being measured as 0 or 1.\n",
    "    H(q1);\n",
    "    \n",
    "    // Entangle q1 and q2, making q2 depend on q1.\n",
    "    CNOT(q1, q2);\n",
    "    \n",
    "    // Show the entangled state of the qubits.\n",
    "    DumpMachine();\n",
    "    \n",
    "    // Measure q1 and q2 and store the results in m1 and m2.\n",
    "    let (m1, m2) = (M(q1), M(q2));\n",
    "    \n",
    "    // Reset q1 and q2 to the 0 state.\n",
    "    Reset(q1);\n",
    "    Reset(q2);\n",
    "    \n",
    "    // Return the measurement results.\n",
    "    return (m1, m2);\n",
    "}"
   ]
  },
  {
   "cell_type": "code",
   "execution_count": 13,
   "id": "e33e65eb",
   "metadata": {
    "vscode": {
     "languageId": "python"
    }
   },
   "outputs": [
    {
     "data": {
      "application/x-qsharp-data": "[\"GenerateRandomBit\"]",
      "text/html": [
       "<ul><li>GenerateRandomBit</li></ul>"
      ],
      "text/plain": [
       "GenerateRandomBit"
      ]
     },
     "execution_count": 13,
     "metadata": {
      "application/x-qsharp-data": {},
      "text/html": {},
      "text/plain": {}
     },
     "output_type": "execute_result"
    }
   ],
   "source": [
    "operation GenerateRandomBit() : Result {\n",
    "    // Allocate a qubit.\n",
    "    use q = Qubit();\n",
    "\n",
    "    // Set the qubit into superposition of 0 and 1 using the Hadamard \n",
    "    H(q);\n",
    "\n",
    "    // At this point the qubit `q` has 50% chance of being measured in the\n",
    "    // |0〉 state and 50% chance of being measured in the |1〉 state.\n",
    "    // Measure the qubit value using the `M` operation, and store the\n",
    "    // measurement value in the `result` variable.\n",
    "    let result = M(q);\n",
    "\n",
    "    // Reset qubit to the |0〉 state.\n",
    "    // Qubits must be in the |0〉 state by the time they are released.\n",
    "    Reset(q);\n",
    "\n",
    "    // Return the result of the measurement.\n",
    "    return result;\n",
    "}"
   ]
  },
  {
   "cell_type": "code",
   "execution_count": 14,
   "id": "ab4eacce",
   "metadata": {
    "vscode": {
     "languageId": "python"
    }
   },
   "outputs": [
    {
     "data": {
      "application/x-qsharp-data": "{\"Source\":\"import Microsoft.Quantum.Convert.*;\\nimport Microsoft.Quantum.Math.*;\",\"Diagnostic\":{\"range\":{\"start\":{\"line\":0,\"character\":7},\"end\":{\"line\":0,\"character\":34}},\"severity\":1,\"code\":\"QS3035\",\"source\":\"c:\\\\snippet_.qs\",\"message\":\"Unexpected code fragment.\"},\"Hint\":null}",
      "text/html": [
       "<strong>Error QS3035</strong>: Unexpected code fragment.\n",
       "<pre><code> 1 | import <span style=\"font-weight: bold; text-decoration: underline; text-decoration-style: wavy; text-decoration-color: red\">Microsoft.Quantum.Convert.*</span>;\n",
       " 2 | import Microsoft.Quantum.Math.*;</code></pre>"
      ],
      "text/plain": [
       "Error QS3035: Unexpected code fragment.\n",
       " 1 | import Microsoft.Quantum.Convert.*;\n",
       "   |        ^^^^^^^^^^^^^^^^^^^^^^^^^^^\n",
       " 2 | import Microsoft.Quantum.Math.*;"
      ]
     },
     "metadata": {
      "application/x-qsharp-data": {},
      "text/html": {},
      "text/plain": {}
     },
     "output_type": "display_data"
    },
    {
     "data": {
      "application/x-qsharp-data": "{\"Source\":\"import Microsoft.Quantum.Convert.*;\\nimport Microsoft.Quantum.Math.*;\",\"Diagnostic\":{\"range\":{\"start\":{\"line\":0,\"character\":0},\"end\":{\"line\":0,\"character\":6}},\"severity\":1,\"code\":\"QS3036\",\"source\":\"c:\\\\snippet_.qs\",\"message\":\"An expression used as a statement must be a call expression.\"},\"Hint\":null}",
      "text/html": [
       "<strong>Error QS3036</strong>: An expression used as a statement must be a call expression.\n",
       "<pre><code> 1 | <span style=\"font-weight: bold; text-decoration: underline; text-decoration-style: wavy; text-decoration-color: red\">import</span> Microsoft.Quantum.Convert.*;\n",
       " 2 | import Microsoft.Quantum.Math.*;</code></pre>"
      ],
      "text/plain": [
       "Error QS3036: An expression used as a statement must be a call expression.\n",
       " 1 | import Microsoft.Quantum.Convert.*;\n",
       "   | ^^^^^^\n",
       " 2 | import Microsoft.Quantum.Math.*;"
      ]
     },
     "metadata": {
      "application/x-qsharp-data": {},
      "text/html": {},
      "text/plain": {}
     },
     "output_type": "display_data"
    },
    {
     "data": {
      "application/x-qsharp-data": "{\"Source\":\"import Microsoft.Quantum.Convert.*;\\nimport Microsoft.Quantum.Math.*;\",\"Diagnostic\":{\"range\":{\"start\":{\"line\":1,\"character\":7},\"end\":{\"line\":1,\"character\":31}},\"severity\":1,\"code\":\"QS3035\",\"source\":\"c:\\\\snippet_.qs\",\"message\":\"Unexpected code fragment.\"},\"Hint\":null}",
      "text/html": [
       "<strong>Error QS3035</strong>: Unexpected code fragment.\n",
       "<pre><code> 1 | import Microsoft.Quantum.Convert.*;\n",
       " 2 | import <span style=\"font-weight: bold; text-decoration: underline; text-decoration-style: wavy; text-decoration-color: red\">Microsoft.Quantum.Math.*</span>;</code></pre>"
      ],
      "text/plain": [
       "Error QS3035: Unexpected code fragment.\n",
       " 1 | import Microsoft.Quantum.Convert.*;\n",
       " 2 | import Microsoft.Quantum.Math.*;\n",
       "   |        ^^^^^^^^^^^^^^^^^^^^^^^^"
      ]
     },
     "metadata": {
      "application/x-qsharp-data": {},
      "text/html": {},
      "text/plain": {}
     },
     "output_type": "display_data"
    },
    {
     "data": {
      "application/x-qsharp-data": "{\"Source\":\"import Microsoft.Quantum.Convert.*;\\nimport Microsoft.Quantum.Math.*;\",\"Diagnostic\":{\"range\":{\"start\":{\"line\":1,\"character\":0},\"end\":{\"line\":1,\"character\":6}},\"severity\":1,\"code\":\"QS3036\",\"source\":\"c:\\\\snippet_.qs\",\"message\":\"An expression used as a statement must be a call expression.\"},\"Hint\":null}",
      "text/html": [
       "<strong>Error QS3036</strong>: An expression used as a statement must be a call expression.\n",
       "<pre><code> 1 | import Microsoft.Quantum.Convert.*;\n",
       " 2 | <span style=\"font-weight: bold; text-decoration: underline; text-decoration-style: wavy; text-decoration-color: red\">import</span> Microsoft.Quantum.Math.*;</code></pre>"
      ],
      "text/plain": [
       "Error QS3036: An expression used as a statement must be a call expression.\n",
       " 1 | import Microsoft.Quantum.Convert.*;\n",
       " 2 | import Microsoft.Quantum.Math.*;\n",
       "   | ^^^^^^"
      ]
     },
     "metadata": {
      "application/x-qsharp-data": {},
      "text/html": {},
      "text/plain": {}
     },
     "output_type": "display_data"
    }
   ],
   "source": [
    "import Microsoft.Quantum.Convert.*;\n",
    "import Microsoft.Quantum.Math.*;"
   ]
  }
 ],
 "metadata": {
  "kernelspec": {
   "display_name": "Q#",
   "language": "qsharp",
   "name": "iqsharp"
  },
  "language_info": {
   "file_extension": ".qs",
   "mimetype": "text/x-qsharp",
   "name": "qsharp",
   "version": "0.27"
  }
 },
 "nbformat": 4,
 "nbformat_minor": 5
}
