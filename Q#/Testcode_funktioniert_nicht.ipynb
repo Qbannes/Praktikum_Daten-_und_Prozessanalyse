{
 "cells": [
  {
   "cell_type": "code",
   "execution_count": 16,
   "id": "02143cfb",
   "metadata": {
    "vscode": {
     "languageId": "python"
    }
   },
   "outputs": [
    {
     "data": {
      "application/x-qsharp-data": "[\"MeasureOneQubit\"]",
      "text/html": [
       "<ul><li>MeasureOneQubit</li></ul>"
      ],
      "text/plain": [
       "MeasureOneQubit"
      ]
     },
     "execution_count": 16,
     "metadata": {
      "application/x-qsharp-data": {},
      "text/html": {},
      "text/plain": {}
     },
     "output_type": "execute_result"
    }
   ],
   "source": [
    "@EntryPoint()\n",
    "operation MeasureOneQubit() : Result {\n",
    "    // Allocate a qubit. By default, it's in the 0 state.  \n",
    "    use q = Qubit();  \n",
    "    // Apply the Hadamard operation, H, to the state.\n",
    "    // It now has a 50% chance of being measured as 0 or 1.\n",
    "    H(q);      \n",
    "    // Measure the qubit in the Z-basis.\n",
    "    let result = M(q);\n",
    "    // Reset the qubit before releasing it.\n",
    "    Reset(q);\n",
    "    // Return the result of the measurement.\n",
    "    return result;\n",
    "}"
   ]
  },
  {
   "cell_type": "code",
   "execution_count": 20,
   "id": "59a61aa2",
   "metadata": {
    "vscode": {
     "languageId": "python"
    }
   },
   "outputs": [
    {
     "data": {
      "application/x-qsharp-data": "{\"Source\":\"\\n{\\n    open Microsoft.Quantum.Intrinsic;\\n    open Microsoft.Quantum.Measurement;\\n    open Microsoft.Quantum.Diagnostics;\\n\\n    operation CheckIfOracleIsBalanced(oracle : ((Qubit, Qubit) => Unit))\\n    : Bool {\\n        use control = Qubit();\\n        use target = Qubit();\\n\\n        H(control);\\n        X(target);\\n        H(target);\\n\\n        oracle(control, target);\\n\\n        H(target);\\n        X(target);\\n\\n        return MResetX(control) == One;\\n    }\\n\\n    operation RunDeutschJozsaAlgorithm() : Unit {\\n        Fact(not CheckIfOracleIsBalanced(ApplyZeroOracle),\\n            \\\"Test failed for zero oracle.\\\");\\n        Fact(not CheckIfOracleIsBalanced(ApplyOneOracle),\\n            \\\"Test failed for one oracle.\\\");\\n        Fact(CheckIfOracleIsBalanced(ApplyIdOracle),\\n            \\\"Test failed for id oracle.\\\");\\n        Fact(CheckIfOracleIsBalanced(ApplyNotOracle),\\n            \\\"Test failed for not oracle.\\\");\\n\\n        Message(\\\"All tests passed!\\\");\\n    }\\n}\",\"Diagnostic\":{\"range\":{\"start\":{\"line\":1,\"character\":0},\"end\":{\"line\":1,\"character\":0}},\"severity\":1,\"code\":\"QS2001\",\"source\":\"c:\\\\snippet_.qs\",\"message\":\"Invalid placement of opening bracket.\"},\"Hint\":null}",
      "text/html": [
       "<strong>Error QS2001</strong>: Invalid placement of opening bracket.\n",
       "<pre><code> 1 | \n",
       " 2 | <span style=\"font-weight: bold; text-decoration: underline; text-decoration-style: wavy; text-decoration-color: red\"></span>{\n",
       " 3 |     open Microsoft.Quantum.Intrinsic;</code></pre>"
      ],
      "text/plain": [
       "Error QS2001: Invalid placement of opening bracket.\n",
       " 1 | \n",
       " 2 | {\n",
       "   | \n",
       " 3 |     open Microsoft.Quantum.Intrinsic;"
      ]
     },
     "metadata": {
      "application/x-qsharp-data": {},
      "text/html": {},
      "text/plain": {}
     },
     "output_type": "display_data"
    },
    {
     "data": {
      "application/x-qsharp-data": "{\"Source\":\"\\n{\\n    open Microsoft.Quantum.Intrinsic;\\n    open Microsoft.Quantum.Measurement;\\n    open Microsoft.Quantum.Diagnostics;\\n\\n    operation CheckIfOracleIsBalanced(oracle : ((Qubit, Qubit) => Unit))\\n    : Bool {\\n        use control = Qubit();\\n        use target = Qubit();\\n\\n        H(control);\\n        X(target);\\n        H(target);\\n\\n        oracle(control, target);\\n\\n        H(target);\\n        X(target);\\n\\n        return MResetX(control) == One;\\n    }\\n\\n    operation RunDeutschJozsaAlgorithm() : Unit {\\n        Fact(not CheckIfOracleIsBalanced(ApplyZeroOracle),\\n            \\\"Test failed for zero oracle.\\\");\\n        Fact(not CheckIfOracleIsBalanced(ApplyOneOracle),\\n            \\\"Test failed for one oracle.\\\");\\n        Fact(CheckIfOracleIsBalanced(ApplyIdOracle),\\n            \\\"Test failed for id oracle.\\\");\\n        Fact(CheckIfOracleIsBalanced(ApplyNotOracle),\\n            \\\"Test failed for not oracle.\\\");\\n\\n        Message(\\\"All tests passed!\\\");\\n    }\\n}\",\"Diagnostic\":{\"range\":{\"start\":{\"line\":2,\"character\":4},\"end\":{\"line\":2,\"character\":8}},\"severity\":1,\"code\":\"QS4002\",\"source\":\"c:\\\\snippet_.qs\",\"message\":\"Declarations and their attributes, as well as open-directives can only occur within a namespace.\"},\"Hint\":null}",
      "text/html": [
       "<strong>Error QS4002</strong>: Declarations and their attributes, as well as open-directives can only occur within a namespace.\n",
       "<pre><code> 2 | {\n",
       " 3 |     <span style=\"font-weight: bold; text-decoration: underline; text-decoration-style: wavy; text-decoration-color: red\">open</span> Microsoft.Quantum.Intrinsic;\n",
       " 4 |     open Microsoft.Quantum.Measurement;</code></pre>"
      ],
      "text/plain": [
       "Error QS4002: Declarations and their attributes, as well as open-directives can only occur within a namespace.\n",
       " 2 | {\n",
       " 3 |     open Microsoft.Quantum.Intrinsic;\n",
       "   |     ^^^^\n",
       " 4 |     open Microsoft.Quantum.Measurement;"
      ]
     },
     "metadata": {
      "application/x-qsharp-data": {},
      "text/html": {},
      "text/plain": {}
     },
     "output_type": "display_data"
    },
    {
     "data": {
      "application/x-qsharp-data": "{\"Source\":\"\\n{\\n    open Microsoft.Quantum.Intrinsic;\\n    open Microsoft.Quantum.Measurement;\\n    open Microsoft.Quantum.Diagnostics;\\n\\n    operation CheckIfOracleIsBalanced(oracle : ((Qubit, Qubit) => Unit))\\n    : Bool {\\n        use control = Qubit();\\n        use target = Qubit();\\n\\n        H(control);\\n        X(target);\\n        H(target);\\n\\n        oracle(control, target);\\n\\n        H(target);\\n        X(target);\\n\\n        return MResetX(control) == One;\\n    }\\n\\n    operation RunDeutschJozsaAlgorithm() : Unit {\\n        Fact(not CheckIfOracleIsBalanced(ApplyZeroOracle),\\n            \\\"Test failed for zero oracle.\\\");\\n        Fact(not CheckIfOracleIsBalanced(ApplyOneOracle),\\n            \\\"Test failed for one oracle.\\\");\\n        Fact(CheckIfOracleIsBalanced(ApplyIdOracle),\\n            \\\"Test failed for id oracle.\\\");\\n        Fact(CheckIfOracleIsBalanced(ApplyNotOracle),\\n            \\\"Test failed for not oracle.\\\");\\n\\n        Message(\\\"All tests passed!\\\");\\n    }\\n}\",\"Diagnostic\":{\"range\":{\"start\":{\"line\":6,\"character\":4},\"end\":{\"line\":6,\"character\":13}},\"severity\":1,\"code\":\"QS4002\",\"source\":\"c:\\\\snippet_.qs\",\"message\":\"Declarations and their attributes, as well as open-directives can only occur within a namespace.\"},\"Hint\":null}",
      "text/html": [
       "<strong>Error QS4002</strong>: Declarations and their attributes, as well as open-directives can only occur within a namespace.\n",
       "<pre><code> 6 | \n",
       " 7 |     <span style=\"font-weight: bold; text-decoration: underline; text-decoration-style: wavy; text-decoration-color: red\">operation</span> CheckIfOracleIsBalanced(oracle : ((Qubit, Qubit) =&gt; Unit))\n",
       " 8 |     : Bool {</code></pre>"
      ],
      "text/plain": [
       "Error QS4002: Declarations and their attributes, as well as open-directives can only occur within a namespace.\n",
       " 6 | \n",
       " 7 |     operation CheckIfOracleIsBalanced(oracle : ((Qubit, Qubit) => Unit))\n",
       "   |     ^^^^^^^^^\n",
       " 8 |     : Bool {"
      ]
     },
     "metadata": {
      "application/x-qsharp-data": {},
      "text/html": {},
      "text/plain": {}
     },
     "output_type": "display_data"
    },
    {
     "data": {
      "application/x-qsharp-data": "{\"Source\":\"\\n{\\n    open Microsoft.Quantum.Intrinsic;\\n    open Microsoft.Quantum.Measurement;\\n    open Microsoft.Quantum.Diagnostics;\\n\\n    operation CheckIfOracleIsBalanced(oracle : ((Qubit, Qubit) => Unit))\\n    : Bool {\\n        use control = Qubit();\\n        use target = Qubit();\\n\\n        H(control);\\n        X(target);\\n        H(target);\\n\\n        oracle(control, target);\\n\\n        H(target);\\n        X(target);\\n\\n        return MResetX(control) == One;\\n    }\\n\\n    operation RunDeutschJozsaAlgorithm() : Unit {\\n        Fact(not CheckIfOracleIsBalanced(ApplyZeroOracle),\\n            \\\"Test failed for zero oracle.\\\");\\n        Fact(not CheckIfOracleIsBalanced(ApplyOneOracle),\\n            \\\"Test failed for one oracle.\\\");\\n        Fact(CheckIfOracleIsBalanced(ApplyIdOracle),\\n            \\\"Test failed for id oracle.\\\");\\n        Fact(CheckIfOracleIsBalanced(ApplyNotOracle),\\n            \\\"Test failed for not oracle.\\\");\\n\\n        Message(\\\"All tests passed!\\\");\\n    }\\n}\",\"Diagnostic\":{\"range\":{\"start\":{\"line\":23,\"character\":4},\"end\":{\"line\":23,\"character\":13}},\"severity\":1,\"code\":\"QS4002\",\"source\":\"c:\\\\snippet_.qs\",\"message\":\"Declarations and their attributes, as well as open-directives can only occur within a namespace.\"},\"Hint\":null}",
      "text/html": [
       "<strong>Error QS4002</strong>: Declarations and their attributes, as well as open-directives can only occur within a namespace.\n",
       "<pre><code> 23 | \n",
       " 24 |     <span style=\"font-weight: bold; text-decoration: underline; text-decoration-style: wavy; text-decoration-color: red\">operation</span> RunDeutschJozsaAlgorithm() : Unit {\n",
       " 25 |         Fact(not CheckIfOracleIsBalanced(ApplyZeroOracle),</code></pre>"
      ],
      "text/plain": [
       "Error QS4002: Declarations and their attributes, as well as open-directives can only occur within a namespace.\n",
       " 23 | \n",
       " 24 |     operation RunDeutschJozsaAlgorithm() : Unit {\n",
       "    |     ^^^^^^^^^\n",
       " 25 |         Fact(not CheckIfOracleIsBalanced(ApplyZeroOracle),"
      ]
     },
     "metadata": {
      "application/x-qsharp-data": {},
      "text/html": {},
      "text/plain": {}
     },
     "output_type": "display_data"
    }
   ],
   "source": [
    "\n",
    "{\n",
    "    open Microsoft.Quantum.Intrinsic;\n",
    "    open Microsoft.Quantum.Measurement;\n",
    "    open Microsoft.Quantum.Diagnostics;\n",
    "\n",
    "    operation CheckIfOracleIsBalanced(oracle : ((Qubit, Qubit) => Unit))\n",
    "    : Bool {\n",
    "        use control = Qubit();\n",
    "        use target = Qubit();\n",
    "\n",
    "        H(control);\n",
    "        X(target);\n",
    "        H(target);\n",
    "\n",
    "        oracle(control, target);\n",
    "\n",
    "        H(target);\n",
    "        X(target);\n",
    "\n",
    "        return MResetX(control) == One;\n",
    "    }\n",
    "\n",
    "    operation RunDeutschJozsaAlgorithm() : Unit {\n",
    "        Fact(not CheckIfOracleIsBalanced(ApplyZeroOracle),\n",
    "            \"Test failed for zero oracle.\");\n",
    "        Fact(not CheckIfOracleIsBalanced(ApplyOneOracle),\n",
    "            \"Test failed for one oracle.\");\n",
    "        Fact(CheckIfOracleIsBalanced(ApplyIdOracle),\n",
    "            \"Test failed for id oracle.\");\n",
    "        Fact(CheckIfOracleIsBalanced(ApplyNotOracle),\n",
    "            \"Test failed for not oracle.\");\n",
    "\n",
    "        Message(\"All tests passed!\");\n",
    "    }\n",
    "}"
   ]
  },
  {
   "cell_type": "code",
   "execution_count": 22,
   "id": "a8689586",
   "metadata": {
    "vscode": {
     "languageId": "python"
    }
   },
   "outputs": [
    {
     "data": {
      "application/x-qsharp-data": "{\"Source\":\"// Put q1 into an even superposition.\\n        H(q1);\",\"Diagnostic\":{\"range\":{\"start\":{\"line\":1,\"character\":8},\"end\":{\"line\":1,\"character\":9}},\"severity\":1,\"code\":\"QS4004\",\"source\":\"c:\\\\snippet_.qs\",\"message\":\"Statements can only occur within a callable or specialization declaration.\"},\"Hint\":null}",
      "text/html": [
       "<strong>Error QS4004</strong>: Statements can only occur within a callable or specialization declaration.\n",
       "<pre><code> 1 | // Put q1 into an even superposition.\n",
       " 2 |         <span style=\"font-weight: bold; text-decoration: underline; text-decoration-style: wavy; text-decoration-color: red\">H</span>(q1);</code></pre>"
      ],
      "text/plain": [
       "Error QS4004: Statements can only occur within a callable or specialization declaration.\n",
       " 1 | // Put q1 into an even superposition.\n",
       " 2 |         H(q1);\n",
       "   |         ^"
      ]
     },
     "metadata": {
      "application/x-qsharp-data": {},
      "text/html": {},
      "text/plain": {}
     },
     "output_type": "display_data"
    }
   ],
   "source": [
    "// Put q1 into an even superposition.\n",
    "        H(q1);"
   ]
  },
  {
   "cell_type": "code",
   "execution_count": 2,
   "id": "de9643a2",
   "metadata": {
    "vscode": {
     "languageId": "python"
    }
   },
   "outputs": [
    {
     "ename": "ModuleNotFoundError",
     "evalue": "No module named 'Microsoft'",
     "output_type": "error",
     "traceback": [
      "\u001b[1;31m---------------------------------------------------------------------------\u001b[0m",
      "\u001b[1;31mModuleNotFoundError\u001b[0m                       Traceback (most recent call last)",
      "Cell \u001b[1;32mIn[2], line 1\u001b[0m\n\u001b[1;32m----> 1\u001b[0m \u001b[38;5;28;01mimport\u001b[39;00m \u001b[38;5;21;01mMicrosoft\u001b[39;00m\u001b[38;5;21;01m.\u001b[39;00m\u001b[38;5;21;01mQuantum\u001b[39;00m\u001b[38;5;21;01m.\u001b[39;00m\u001b[38;5;21;01mConvert\u001b[39;00m\n\u001b[0;32m      2\u001b[0m \u001b[38;5;28;01mimport\u001b[39;00m \u001b[38;5;21;01mMicrosoft\u001b[39;00m\u001b[38;5;21;01m.\u001b[39;00m\u001b[38;5;21;01mQuantum\u001b[39;00m\u001b[38;5;21;01m.\u001b[39;00m\u001b[38;5;21;01mMath\u001b[39;00m\n",
      "\u001b[1;31mModuleNotFoundError\u001b[0m: No module named 'Microsoft'"
     ]
    }
   ],
   "source": [
    "import Microsoft.Quantum.Convert\n",
    "import Microsoft.Quantum.Math"
   ]
  }
 ],
 "metadata": {
  "kernelspec": {
   "display_name": "Q#",
   "language": "qsharp",
   "name": "iqsharp"
  },
  "language_info": {
   "codemirror_mode": {
    "name": "ipython",
    "version": 3
   },
   "file_extension": ".py",
   "mimetype": "text/x-python",
   "name": "qsharp",
   "nbconvert_exporter": "python",
   "pygments_lexer": "ipython3",
   "version": "3.12.7"
  }
 },
 "nbformat": 4,
 "nbformat_minor": 5
}
