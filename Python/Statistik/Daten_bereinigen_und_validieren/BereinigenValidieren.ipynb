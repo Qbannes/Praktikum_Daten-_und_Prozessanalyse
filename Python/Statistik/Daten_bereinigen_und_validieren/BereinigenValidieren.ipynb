{
 "cells": [
  {
   "cell_type": "code",
   "execution_count": null,
   "id": "6497846b",
   "metadata": {},
   "outputs": [
    {
     "name": "stdout",
     "output_type": "stream",
     "text": [
      "city                       0\n",
      "city_ascii                 0\n",
      "lat                        0\n",
      "lng                        0\n",
      "country                    0\n",
      "iso2                       1\n",
      "iso3                       0\n",
      "admin_name                12\n",
      "capital                  706\n",
      "population                 0\n",
      "id                         0\n",
      "Liefermenge_Paletten    2000\n",
      "dtype: int64\n"
     ]
    }
   ],
   "source": [
    "\n",
    "import pandas as pd\n",
    "\n",
    "df = pd.read_csv(r'C:\\Users\\juanc\\Documents\\Ausbildung_Informatik\\1_Praktikum\\Praktikum_Daten-_und_Prozessanalyse\\Python\\Statistik\\worldcities_small+Liefermenge.csv')\n",
    "# Zunächst wird der Datensatz auf fehlende Werte geprüft und danach ausgegeben ( print() )\n",
    "print(df.isnull().sum()) # zeigt fehlende Werte pro Spalte an"
   ]
  },
  {
   "cell_type": "code",
   "execution_count": null,
   "id": "aac633c6",
   "metadata": {},
   "outputs": [],
   "source": [
    "#Falls Duplikate vorkommen, müssen dieses entfernt werden\n",
    "\n",
    "df.drop_duplicates(subset = ['city_ascii'], keep = 'first', inplace = True)\n",
    "\n",
    "\n"
   ]
  },
  {
   "cell_type": "code",
   "execution_count": 6,
   "id": "25de1d02",
   "metadata": {},
   "outputs": [],
   "source": [
    "# bereinigte Daten speicehern\n",
    "\n",
    "df.to_csv(r'C:\\Users\\juanc\\Documents\\Ausbildung_Informatik\\1_Praktikum\\Praktikum_Daten-_und_Prozessanalyse\\Python\\Statistik\\Logistikdaten\\worldcities_small+Liefermenge_cleaned.csv')"
   ]
  }
 ],
 "metadata": {
  "kernelspec": {
   "display_name": "base",
   "language": "python",
   "name": "python3"
  },
  "language_info": {
   "codemirror_mode": {
    "name": "ipython",
    "version": 3
   },
   "file_extension": ".py",
   "mimetype": "text/x-python",
   "name": "python",
   "nbconvert_exporter": "python",
   "pygments_lexer": "ipython3",
   "version": "3.12.7"
  }
 },
 "nbformat": 4,
 "nbformat_minor": 5
}
