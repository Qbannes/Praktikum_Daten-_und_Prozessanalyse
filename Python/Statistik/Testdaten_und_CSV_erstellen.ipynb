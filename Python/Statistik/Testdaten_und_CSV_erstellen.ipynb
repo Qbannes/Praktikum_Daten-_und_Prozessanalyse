{
 "cells": [
  {
   "cell_type": "code",
   "execution_count": 32,
   "id": "f0656d14",
   "metadata": {},
   "outputs": [
    {
     "name": "stdout",
     "output_type": "stream",
     "text": [
      "      Liefermenge_Paletten\n",
      "0                        5\n",
      "1                       26\n",
      "2                        4\n",
      "3                       20\n",
      "4                       24\n",
      "...                    ...\n",
      "1995                    17\n",
      "1996                     9\n",
      "1997                    29\n",
      "1998                    13\n",
      "1999                    17\n",
      "\n",
      "[2000 rows x 1 columns]\n"
     ]
    }
   ],
   "source": [
    "# Testdatensatz mit einer Spalte Liefermange zum späteren Hinzufügen eines anderen \n",
    "# Datensatzes\n",
    "\n",
    "import pandas as pd\n",
    "import numpy as np\n",
    "\n",
    "# Anzahl der Zeilen\n",
    "num_rows = 2000\n",
    "\n",
    "# DataFrame erstellen mit der Spalte Liefermenge_T und randomisierten Werten zwischen \n",
    "np.random.seed(7)\n",
    "liefermengen = np.random.randint(1, 34, size=num_rows)\n",
    "df = pd.DataFrame({'Liefermenge_Paletten': liefermengen})\n",
    "df.to_csv(r\"C:\\Users\\juanc\\Documents\\Ausbildung_Informatik\\1_Praktikum\\Praktikum_Daten-_und_Prozessanalyse\\Python\\Statistik\\Zusatz_Liefermenge.csv\", index=True)\n",
    "print(df)\n",
    "\n"
   ]
  },
  {
   "cell_type": "code",
   "execution_count": 34,
   "id": "84587b4b",
   "metadata": {},
   "outputs": [],
   "source": [
    "# Im nächsten Schritt wird die erzeugte CSV einer anderen hinzugefügt \n",
    "# (besser gesagt: die erzeugte Spalte wird in einer anderen CSV implementiert)\n",
    "\n",
    "# zunächste wird die Datei eingelsen, zu der die Spalte hinzugefügt werden soll\n",
    "\n",
    "df1 = pd.read_csv(r\"C:\\Users\\juanc\\Documents\\Ausbildung_Informatik\\1_Praktikum\\Praktikum_Daten-_und_Prozessanalyse\\Python\\Statistik\\worldcities_small.csv\", index_col=0)\n",
    "df2 = pd.read_csv(r\"C:\\Users\\juanc\\Documents\\Ausbildung_Informatik\\1_Praktikum\\Praktikum_Daten-_und_Prozessanalyse\\Python\\Statistik\\Zusatz_Liefermenge.csv\", index_col=0)\n",
    "\n",
    "# Als nächstes die Spalte auswählen \n",
    "neue_spalte = df2['Liefermenge_Paletten']\n",
    "\n",
    "# Spalte von df2 zu df1 hinzufügen\n",
    "df1['Liefermenge_Paletten'] = neue_spalte\n",
    "\n",
    "# neue Datei speichern unter einem neuen Namen\n",
    "df1.to_csv(r\"C:\\Users\\juanc\\Documents\\Ausbildung_Informatik\\1_Praktikum\\Praktikum_Daten-_und_Prozessanalyse\\Python\\Statistik\\worldcities_small+Liefermenge.csv\", index=True)"
   ]
  }
 ],
 "metadata": {
  "kernelspec": {
   "display_name": "base",
   "language": "python",
   "name": "python3"
  },
  "language_info": {
   "codemirror_mode": {
    "name": "ipython",
    "version": 3
   },
   "file_extension": ".py",
   "mimetype": "text/x-python",
   "name": "python",
   "nbconvert_exporter": "python",
   "pygments_lexer": "ipython3",
   "version": "3.12.7"
  }
 },
 "nbformat": 4,
 "nbformat_minor": 5
}
