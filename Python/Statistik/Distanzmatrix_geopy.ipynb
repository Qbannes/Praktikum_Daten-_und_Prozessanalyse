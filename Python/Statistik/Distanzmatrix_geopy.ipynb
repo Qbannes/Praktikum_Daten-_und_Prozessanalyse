{
 "cells": [
  {
   "cell_type": "markdown",
   "id": "7261ab8b",
   "metadata": {},
   "source": []
  },
  {
   "cell_type": "code",
   "execution_count": null,
   "id": "19e52402",
   "metadata": {},
   "outputs": [],
   "source": [
    "!pip install geopy --quiet\n",
    "import pandas as pd\n",
    "import geopy\n",
    "from geopy.distance import geodesic\n",
    "print(\"Geopy erfolgreich geladen! Version:\", geopy.__version__)\n",
    "\n",
    "import geopy\n",
    "from geopy.distance import geodesic\n",
    "print(geodesic((48.1351, 11.5820), (52.5200, 13.4050)).km) \n",
    "df = pd.read_csv(r'C:\\Users\\juanc\\Documents\\Ausbildung_Informatik\\1_Praktikum\\Praktikum_Daten-_und_Prozessanalyse\\Python\\Statistik\\Logistikdaten\\worldcities_small+Liefermenge_cleaned.csv')\n",
    "\n",
    "distanzen = []\n",
    "for _, row1 in df.iterrows():\n",
    "    dist_row = []\n",
    "    for _, row2 in df.iterrows():\n",
    "        dist = geodesic((row1[\"lat\"], row1[\"lng\"]), (row2[\"lat\"], row2[\"lng\"])).km\n",
    "        dist_row.append(round(dist, 2))\n",
    "    distanzen.append(dist_row)\n",
    "distanz_df = pd.DataFrame(distanzen, columns=df[\"city_ascii\"], index=df[\"city_ascii\"])\n"
   ]
  },
  {
   "cell_type": "code",
   "execution_count": null,
   "id": "ade68373",
   "metadata": {},
   "outputs": [],
   "source": [
    "# Distanzmatrix speichern für spätere Algorithmen\n",
    "\n",
    "distanz_df.to_csv(r\"C:\\Users\\juanc\\Documents\\Ausbildung_Informatik\\1_Praktikum\\Praktikum_Daten-_und_Prozessanalyse\\Python\\Statistik\\Logistikdaten\\distanzmatrix.csv\") "
   ]
  },
  {
   "cell_type": "code",
   "execution_count": null,
   "id": "66dcfccd",
   "metadata": {},
   "outputs": [],
   "source": [
    "# Beim erstellen der Distanzmatrix stellte es sich heraus, dass die Wahl der Spalte city anstatt city_scii \n",
    "# nicht optimal ist, da city_ascii die korrekten Namen enthält.\n",
    "# Daher wird die Distanzmatrix mit city_ascii als Index und Spalten neu erstellt und gespeichert \n",
    "# und nicht erneut berechnet mit der richtigen Spaltenwahl, weil die Berechnung 15 Minuten dauert.\n",
    "\n",
    "\n",
    "distanz_df = pd.read_csv(r\"C:\\Users\\juanc\\Documents\\Ausbildung_Informatik\\1_Praktikum\\Praktikum_Daten-_und_Prozessanalyse\\Python\\Statistik\\Logistikdaten\\distanzmatrixI.csv\")\n",
    "\n",
    "\n",
    "# 1. Existierende Distanzmatrix laden\n",
    "distanz_df = pd.read_csv(\"distanzmatrix.csv\", index_col=0)  # index_col=0 setzt city als Index\n",
    "\n",
    "# 2. city_ascii aus dem Original-Datenrahmen holen\n",
    "df = pd.read_csv(r'C:\\Users\\juanc\\Documents\\Ausbildung_Informatik\\1_Praktikum\\Praktikum_Daten-_und_Prozessanalyse\\Python\\Statistik\\Logistikdaten\\worldcities_small+Liefermenge_cleaned.csv')\n",
    "city_ascii_mapping = df.set_index(\"city\")[\"city_ascii\"].to_dict()\n",
    "\n",
    "# 3. Index und Spalten der Distanzmatrix ersetzen\n",
    "distanz_df.index = distanz_df.index.map(city_ascii_mapping)\n",
    "distanz_df.columns = distanz_df.columns.map(city_ascii_mapping)\n",
    "\n",
    "# 4. Speichern als distanzmatrixII.csv\n",
    "distanz_df.to_csv(r'C:\\Users\\juanc\\Documents\\Ausbildung_Informatik\\1_Praktikum\\Praktikum_Daten-_und_Prozessanalyse\\Python\\Statistik\\Logistikdaten\\distanzmatrixII.csv')"
   ]
  }
 ],
 "metadata": {
  "kernelspec": {
   "display_name": "base",
   "language": "python",
   "name": "python3"
  },
  "language_info": {
   "codemirror_mode": {
    "name": "ipython",
    "version": 3
   },
   "file_extension": ".py",
   "mimetype": "text/x-python",
   "name": "python",
   "nbconvert_exporter": "python",
   "pygments_lexer": "ipython3",
   "version": "3.12.7"
  }
 },
 "nbformat": 4,
 "nbformat_minor": 5
}
