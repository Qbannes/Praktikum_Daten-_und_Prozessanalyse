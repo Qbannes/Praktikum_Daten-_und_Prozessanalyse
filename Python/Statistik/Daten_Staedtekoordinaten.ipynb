{
 "cells": [
  {
   "cell_type": "code",
   "execution_count": 1,
   "id": "143e108a",
   "metadata": {},
   "outputs": [
    {
     "name": "stdout",
     "output_type": "stream",
     "text": [
      "Index(['city', 'city_ascii', 'lat', 'lng', 'country', 'iso2', 'iso3',\n",
      "       'admin_name', 'capital', 'population', 'id'],\n",
      "      dtype='object')\n",
      "<bound method NDFrame.head of             city  city_ascii      lat       lng        country iso2 iso3  \\\n",
      "0          Tokyo       Tokyo  35.6870  139.7495          Japan   JP  JPN   \n",
      "1        Jakarta     Jakarta  -6.1750  106.8275      Indonesia   ID  IDN   \n",
      "2          Delhi       Delhi  28.6100   77.2300          India   IN  IND   \n",
      "3      Guangzhou   Guangzhou  23.1300  113.2600          China   CN  CHN   \n",
      "4         Mumbai      Mumbai  19.0761   72.8775          India   IN  IND   \n",
      "...          ...         ...      ...       ...            ...  ...  ...   \n",
      "1995  Shāhjānpur  Shahjanpur  27.8800   79.9100          India   IN  IND   \n",
      "1996  Gwagwalada  Gwagwalada   8.9392    7.0758        Nigeria   NG  NGA   \n",
      "1997       Āvadi       Avadi  13.1147   80.1098          India   IN  IND   \n",
      "1998    Tanch’ŏn    Tanch'on  40.4580  128.9110   Korea, North   KP  PRK   \n",
      "1999  Greensboro  Greensboro  36.0956  -79.8271  United States   US  USA   \n",
      "\n",
      "                     admin_name  capital  population          id  \n",
      "0                         Tōkyō  primary    37785000  1392685764  \n",
      "1                       Jakarta  primary    33756000  1360771077  \n",
      "2                         Delhi    admin    32226000  1356872604  \n",
      "3                     Guangdong    admin    26940000  1156237133  \n",
      "4                   Mahārāshtra    admin    24973000  1356226629  \n",
      "...                         ...      ...         ...         ...  \n",
      "1995              Uttar Pradesh      NaN      346103  1356415439  \n",
      "1996  Federal Capital Territory    minor      346000  1566419265  \n",
      "1997                 Tamil Nādu      NaN      345996  1356009111  \n",
      "1998                     Hamnam      NaN      345875  1408940912  \n",
      "1999             North Carolina      NaN      345858  1840013356  \n",
      "\n",
      "[2000 rows x 11 columns]>\n"
     ]
    }
   ],
   "source": [
    "import pandas as pd\n",
    "import numpy as np\n",
    "import matplotlib as plt\n",
    "\n",
    "# CSV einlesen\n",
    "df = pd.read_csv(r'C:\\Users\\juanc\\Documents\\Ausbildung_Informatik\\1_Praktikum\\Praktikum_Daten-_und_Prozessanalyse\\Python\\Statistik\\worldcities_small.csv', encoding='utf-8-sig')\n",
    "\n",
    "# Spaltennamen bereinigen (entfernt Leerzeichen/Sonderzeichen)\n",
    "df.columns = df.columns.str.strip()  \n",
    "\n",
    "# df = df.rename(columns={' lat ': 'lat', ' lng ': 'lng'})  \n",
    "\n",
    "\n",
    "\n",
    "\n",
    "\n",
    "\n",
    "print(df.columns)\n",
    "print(df.head)\n",
    "\n",
    "\n"
   ]
  },
  {
   "cell_type": "code",
   "execution_count": 2,
   "id": "bc1c98dd",
   "metadata": {},
   "outputs": [
    {
     "name": "stdout",
     "output_type": "stream",
     "text": [
      "city            0\n",
      "city_ascii      0\n",
      "lat             0\n",
      "lng             0\n",
      "country         0\n",
      "iso2            1\n",
      "iso3            0\n",
      "admin_name     12\n",
      "capital       706\n",
      "population      0\n",
      "id              0\n",
      "dtype: int64\n",
      "Vorhandene Spalten ['city', 'city_ascii', 'lat', 'lng', 'country', 'iso2', 'iso3', 'admin_name', 'capital', 'population', 'id']\n"
     ]
    }
   ],
   "source": [
    "# Auf fehlende Werte in der Datenbank prüfen\n",
    "print(df.isnull().sum())\n",
    "print(\"Vorhandene Spalten\", df.columns.tolist())"
   ]
  },
  {
   "cell_type": "code",
   "execution_count": null,
   "id": "b770ba3f",
   "metadata": {},
   "outputs": [],
   "source": [
    "import numpy as np\n",
    "import pandas as pd\n",
    "from sklearn.metrics import DistanceMetric\n",
    "\n",
    "# 1. CSV einlesen\n",
    "df = pd.read_csv(\"worldcities_small.csv\")  # Pfad anpassen\n",
    "\n",
    "# 2. Koordinaten vorbereiten (Grad zu Radiant)\n",
    "coords = np.deg2rad(df[['lat', 'lng']].values)\n",
    "\n",
    "# 3. Haversine-Distanzmatrix berechnen\n",
    "dist = DistanceMetric.get_metric('haversine')\n",
    "distanz_matrix = dist.pairwise(coords) * 6371  # Radius der Erde in km\n",
    "\n",
    "# 4. Matrix in DataFrame umwandeln (mit Städtenamen als Index/Spalten)\n",
    "distanz_df = pd.DataFrame(\n",
    "    distanz_matrix,\n",
    "    index=df['city'],    # Zeilen = Startstädte\n",
    "    columns=df['city']   # Spalten = Zielstädte\n",
    ")\n",
    "\n",
    "# 5. Als CSV speichern\n",
    "distanz_df.to_csv(r\"C:\\Users\\juanc\\Documents\\Ausbildung_Informatik\\1_Praktikum\\Praktikum_Daten-_und_Prozessanalyse\\Python\\Statistik\\worldcities_haversine.csv\", index=True)\n",
    "\n"
   ]
  },
  {
   "cell_type": "code",
   "execution_count": null,
   "id": "8dcc59a8",
   "metadata": {},
   "outputs": [
    {
     "name": "stdout",
     "output_type": "stream",
     "text": [
      "<bound method NDFrame.head of city               Tokyo       Jakarta         Delhi     Guangzhou  \\\n",
      "city                                                                 \n",
      "Tokyo           0.000000   5786.849496   5840.881654   2907.434755   \n",
      "Jakarta      5786.849496      0.000000   5001.022751   3332.720414   \n",
      "Delhi        5840.881654   5001.022751      0.000000   3642.156028   \n",
      "Guangzhou    2907.434755   3332.720414   3642.156028      0.000000   \n",
      "Mumbai       6729.199544   4659.477623   1148.512916   4200.420863   \n",
      "...                  ...           ...           ...           ...   \n",
      "Shāhjānpur   5636.593936   4763.260719    274.774575   3377.882442   \n",
      "Gwagwalada  13004.193954  11180.464147   7600.940059  11239.516639   \n",
      "Āvadi        6432.306198   3648.201030   1748.562927   3665.711973   \n",
      "Tanch’ŏn     1085.857523   5655.745788   4841.456937   2420.857842   \n",
      "Greensboro  11045.390868  16619.576478  12430.123154  13287.320710   \n",
      "\n",
      "city              Mumbai        Manila      Shanghai     São Paulo  \\\n",
      "city                                                                 \n",
      "Tokyo        6729.199544   2999.584620   1763.271465  18532.158680   \n",
      "Jakarta      4659.477623   2787.272481   4440.821389  15630.477414   \n",
      "Delhi        1148.512916   4752.913171   4245.831013  14430.247068   \n",
      "Guangzhou    4200.420863   1248.263787   1212.026928  17963.485321   \n",
      "Mumbai          0.000000   5128.291257   5032.506866  13774.052653   \n",
      "...                  ...           ...           ...           ...   \n",
      "Shāhjānpur   1212.883091   4480.236714   4014.305934  14679.421538   \n",
      "Gwagwalada   7151.203822  12273.179435  11738.626241   6862.067291   \n",
      "Āvadi        1017.690306   4409.325787   4674.711102  14306.886090   \n",
      "Tanch’ŏn     5796.859174   2977.027371   1224.657000  18089.416839   \n",
      "Greensboro  13241.515094  13969.136205  12206.306678   7493.296708   \n",
      "\n",
      "city               Seoul   Mexico City  ...  António Enes      Plovdiv  \\\n",
      "city                                    ...                              \n",
      "Tokyo        1157.285876  11301.736657  ...  11924.127073  9132.439667   \n",
      "Jakarta      5293.731205  16845.009822  ...   7355.714552  9819.930864   \n",
      "Delhi        4685.571249  14658.647478  ...   6399.765090  4907.118518   \n",
      "Guangzhou    2071.292582  14119.898026  ...   9092.053709  8190.736621   \n",
      "Mumbai       5595.661135  15645.283626  ...   5330.248070  5182.121827   \n",
      "...                  ...           ...  ...           ...          ...   \n",
      "Shāhjānpur   4484.963470  14753.080814  ...   6527.716391  5171.904595   \n",
      "Gwagwalada  11919.884748  11344.703773  ...   4570.542416  4076.894986   \n",
      "Āvadi        5363.582630  16394.965440  ...   5492.702315  6199.681954   \n",
      "Tanch’ŏn      362.052644  11708.473002  ...  11087.017416  8083.803866   \n",
      "Greensboro  11371.448031   2643.268650  ...  13713.980596  8433.873552   \n",
      "\n",
      "city        Central Coast      Honolulu    Karşıyaka    Shāhjānpur  \\\n",
      "city                                                                 \n",
      "Tokyo         7762.967123   6200.286505  9253.621687   5636.593936   \n",
      "Jakarta       5474.062591  10806.621199  9547.578233   4763.260719   \n",
      "Delhi        10391.803429  11908.662500  4712.880283    274.774575   \n",
      "Guangzhou     7451.583431   8987.562772  8114.808698   3377.882442   \n",
      "Mumbai       10132.129034  12899.120482  4890.585117   1212.883091   \n",
      "...                   ...           ...          ...           ...   \n",
      "Shāhjānpur   10133.350657  11744.098189  4983.330666      0.000000   \n",
      "Gwagwalada   15452.413316  16268.244751  3844.953452   7862.428684   \n",
      "Āvadi         9117.624041  12621.049524  5906.672135   1641.957291   \n",
      "Tanch’ŏn      8514.712081   7102.321692  8187.626635   4655.658491   \n",
      "Greensboro   15393.416167   7589.205873  8841.304834  12591.492544   \n",
      "\n",
      "city          Gwagwalada         Āvadi      Tanch’ŏn    Greensboro  \n",
      "city                                                                \n",
      "Tokyo       13004.193954   6432.306198   1085.857523  11045.390868  \n",
      "Jakarta     11180.464147   3648.201030   5655.745788  16619.576478  \n",
      "Delhi        7600.940059   1748.562927   4841.456937  12430.123154  \n",
      "Guangzhou   11239.516639   3665.711973   2420.857842  13287.320710  \n",
      "Mumbai       7151.203822   1017.690306   5796.859174  13241.515094  \n",
      "...                  ...           ...           ...           ...  \n",
      "Shāhjānpur   7862.428684   1641.957291   4655.658491  12591.492544  \n",
      "Gwagwalada      0.000000   7959.208667  11919.674045   9146.946889  \n",
      "Āvadi        7959.208667      0.000000   5621.476428  14151.428851  \n",
      "Tanch’ŏn    11919.674045   5621.476428      0.000000  11010.696027  \n",
      "Greensboro   9146.946889  14151.428851  11010.696027      0.000000  \n",
      "\n",
      "[2000 rows x 2000 columns]>\n"
     ]
    },
    {
     "ename": "",
     "evalue": "",
     "output_type": "error",
     "traceback": [
      "\u001b[1;31mDer Kernel ist beim Ausführen von Code in der aktuellen Zelle oder einer vorherigen Zelle abgestürzt. \n",
      "\u001b[1;31mBitte überprüfen Sie den Code in der/den Zelle(n), um eine mögliche Fehlerursache zu identifizieren. \n",
      "\u001b[1;31mKlicken Sie <a href='https://aka.ms/vscodeJupyterKernelCrash'>hier</a>, um weitere Informationen zu erhalten. \n",
      "\u001b[1;31mWeitere Informationen finden Sie unter Jupyter <a href='command:jupyter.viewOutput'>Protokoll</a>."
     ]
    }
   ],
   "source": [
    "print(distanz_df.head)"
   ]
  }
 ],
 "metadata": {
  "kernelspec": {
   "display_name": "base",
   "language": "python",
   "name": "python3"
  },
  "language_info": {
   "codemirror_mode": {
    "name": "ipython",
    "version": 3
   },
   "file_extension": ".py",
   "mimetype": "text/x-python",
   "name": "python",
   "nbconvert_exporter": "python",
   "pygments_lexer": "ipython3",
   "version": "3.12.7"
  }
 },
 "nbformat": 4,
 "nbformat_minor": 5
}
