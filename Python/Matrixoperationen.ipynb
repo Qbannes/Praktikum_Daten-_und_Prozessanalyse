{
 "cells": [
  {
   "cell_type": "code",
   "execution_count": 1,
   "id": "b4f312b6",
   "metadata": {},
   "outputs": [],
   "source": [
    "import numpy as np\n",
    "\n",
    "# Matrix aus Liste erstellen\n",
    "A = np.array([[1, 2], [3, 4]])  \n",
    "B = np.array([[5, 6], [7, 8]])\n",
    "\n",
    "# Spezialmatrizen\n",
    "Einheitsmatrix = np.eye(3)  # 3x3 Einheitsmatrix\n",
    "Nullmatrix = np.zeros((2,2))  # 2x2 Nullmatrix\n",
    "Einsmatrix = np.ones((3,2))  # 3x2 Matrix mit Einsen\n"
   ]
  },
  {
   "cell_type": "code",
   "execution_count": 2,
   "id": "952ddeca",
   "metadata": {},
   "outputs": [],
   "source": [
    "# Elementweise Addition/Subtraktion\n",
    "C = A + B  # [[6, 8], [10, 12]]\n",
    "D = A - B  # [[-4, -4], [-4, -4]]\n",
    "\n",
    "# Skalare Multiplikation\n",
    "E = 3 * A  # [[3, 6], [9, 12]]\n",
    "\n",
    "# Elementweise Multiplikation (Hadamard-Produkt)\n",
    "F = np.multiply(A, B)  # [[5, 12], [21, 32]]\n"
   ]
  },
  {
   "cell_type": "code",
   "execution_count": 3,
   "id": "3b712026",
   "metadata": {},
   "outputs": [],
   "source": [
    "# Klassisches Matrixprodukt (Zeile x Spalte)\n",
    "G = np.dot(A, B)  # [[19, 22], [43, 50]]\n",
    "\n",
    "# Alternative mit @-Operator\n",
    "H = A @ B  # [[19, 22], [43, 50]]\n",
    "\n",
    "# Für höhere Dimensionen\n",
    "I = np.matmul(A, B)  # Äquivalent zu dot()\n"
   ]
  },
  {
   "cell_type": "code",
   "execution_count": 4,
   "id": "b9096c3d",
   "metadata": {},
   "outputs": [],
   "source": [
    "A = np.array([[1, 2]])    # Shape (1,2)\n",
    "B = np.array([[3], [4]])  # Shape (2,1)\n",
    "C = A @ B  # [[11]] - gültig!\n"
   ]
  },
  {
   "cell_type": "code",
   "execution_count": 5,
   "id": "43affb46",
   "metadata": {},
   "outputs": [],
   "source": [
    "# Für Determinante, Rang und Spur benötigen wir eine quadratische Matrix.\n",
    "A = np.array([[1, 2], [3, 4]])  # 2x2 Matrix\n",
    "\n",
    "# Transponierte\n",
    "A_trans = A.T  # [[1, 3], [2, 4]]\n",
    "\n",
    "# Determinante\n",
    "det_A = np.linalg.det(A)  # -2.0\n",
    "\n",
    "# Rang\n",
    "rank_A = np.linalg.matrix_rank(A)  # 2\n",
    "\n",
    "# Spur (Summe der Diagonalelemente)\n",
    "spur_A = np.trace(A)  # 5\n"
   ]
  },
  {
   "cell_type": "code",
   "execution_count": 6,
   "id": "cee97f72",
   "metadata": {},
   "outputs": [],
   "source": [
    "# Nur für quadratische Matrizen mit det ≠ 0\n",
    "A_square = np.array([[1, 2], [3, 4]])  # 2x2 Matrix\n",
    "A_inv = np.linalg.inv(A_square)  # [[-2, 1], [1.5, -0.5]]\n"
   ]
  },
  {
   "cell_type": "code",
   "execution_count": null,
   "id": "e6d4d631",
   "metadata": {},
   "outputs": [],
   "source": [
    "import numpy as np\n",
    "\n",
    "matrix = np.random.rand(24000, 24000)\n",
    "sign, logdet = np.linalg.slogdet(matrix)\n",
    "print(\"Vorzeichen:\", sign)\n",
    "print(\"Logarithmus der Determinante:\", logdet)"
   ]
  },
  {
   "cell_type": "code",
   "execution_count": null,
   "id": "de7b9f32",
   "metadata": {},
   "outputs": [],
   "source": [
    "import numpy as np\n",
    "\n",
    "# Matrixgröße und Datentyp\n",
    "n = 24000\n",
    "dtype = np.float64\n",
    "\n",
    "# Matrix anlegen\n",
    "A = np.random.rand(n, n).astype(dtype)\n",
    "\n",
    "# Speicherbedarf berechnen\n",
    "speicherbedarf_gb = A.nbytes / (1024**3)\n",
    "print(f\"Speicherbedarf: {speicherbedarf_gb:.2f} GB\")\n"
   ]
  },
  {
   "cell_type": "code",
   "execution_count": null,
   "id": "90933501",
   "metadata": {},
   "outputs": [],
   "source": [
    "import numpy as np\n",
    "import time\n",
    "import tracemalloc\n",
    "\n",
    "n = 2000\n",
    "A = np.random.rand(n, n)\n",
    "\n",
    "# Zeit und Speicher messen\n",
    "tracemalloc.start()\n",
    "start = time.time()\n",
    "\n",
    "# Determinante berechnen (LU-Zerlegung)\n",
    "sign = 1\n",
    "for i in range(n):\n",
    "    # Pivotisierung und Elimination (vereinfacht, nicht für Produktion!)\n",
    "    max_row = i + np.argmax(np.abs(A[i:, i]))\n",
    "    if max_row != i:\n",
    "        A[[i, max_row]] = A[[max_row, i]]\n",
    "        sign *= -1\n",
    "    for j in range(i+1, n):\n",
    "        factor = A[j, i] / A[i, i]\n",
    "        A[j, i+1:] -= factor * A[i, i+1:]\n",
    "        A[j, i] = 0\n",
    "\n",
    "det = sign * np.prod(np.diag(A))\n",
    "\n",
    "ende = time.time()\n",
    "current, peak = tracemalloc.get_traced_memory()\n",
    "tracemalloc.stop()\n",
    "\n",
    "print(f\"Determinante: {det:.3e}\")\n",
    "print(f\"Berechnungszeit: {ende - start:.2f} Sekunden\")\n",
    "print(f\"Maximaler Speicherverbrauch: {peak / (1024**3):.2f} GB\")\n"
   ]
  },
  {
   "cell_type": "code",
   "execution_count": null,
   "id": "76ef3f0e-d216-4047-ac94-75376e8efdbc",
   "metadata": {},
   "outputs": [],
   "source": []
  }
 ],
 "metadata": {
  "kernelspec": {
   "display_name": "Python 3 (ipykernel)",
   "language": "python",
   "name": "python3"
  },
  "language_info": {
   "codemirror_mode": {
    "name": "ipython",
    "version": 3
   },
   "file_extension": ".py",
   "mimetype": "text/x-python",
   "name": "python",
   "nbconvert_exporter": "python",
   "pygments_lexer": "ipython3",
   "version": "3.12.7"
  }
 },
 "nbformat": 4,
 "nbformat_minor": 5
}
