{
 "cells": [
  {
   "cell_type": "code",
   "execution_count": null,
   "id": "5a348a68",
   "metadata": {},
   "outputs": [
    {
     "name": "stdout",
     "output_type": "stream",
     "text": [
      "Guten Tag Julia\n",
      "Guten Tag Juan\n",
      "Guten Tag Johannes\n"
     ]
    }
   ],
   "source": [
    "# Funktionen schreiben \n",
    "\n",
    "def Begruessung(Name):\n",
    "\n",
    "    return f'Guten Tag {Name}'\n",
    "\n",
    "print(Begruessung(\"Julia\"))\n",
    "print(Begruessung(\"Juan\"))\n",
    "print(Begruessung(\"Johannes\"))"
   ]
  },
  {
   "cell_type": "code",
   "execution_count": null,
   "id": "92d212f4",
   "metadata": {},
   "outputs": [
    {
     "name": "stdout",
     "output_type": "stream",
     "text": [
      "100\n"
     ]
    }
   ],
   "source": [
    "def quadratzahl(x):\n",
    "    return x * x\n",
    "\n",
    "print(quadratzahl(5))"
   ]
  },
  {
   "cell_type": "code",
   "execution_count": 19,
   "id": "a52c3829",
   "metadata": {},
   "outputs": [
    {
     "name": "stdout",
     "output_type": "stream",
     "text": [
      "10\n"
     ]
    }
   ],
   "source": [
    "def quadratzahl(x):\n",
    "    return x + x\n",
    "\n",
    "print(quadratzahl(5))"
   ]
  },
  {
   "cell_type": "code",
   "execution_count": 23,
   "id": "82f09b44",
   "metadata": {},
   "outputs": [
    {
     "name": "stdout",
     "output_type": "stream",
     "text": [
      "True\n",
      "False\n"
     ]
    }
   ],
   "source": [
    "\n",
    "def ist_negativ(x):\n",
    "    return x < 0\n",
    "\n",
    "print(ist_negativ(-1))  # Ausgabe: True\n",
    "print(ist_negativ(5))   # Ausgabe: False"
   ]
  },
  {
   "cell_type": "code",
   "execution_count": 34,
   "id": "7ec8f15e",
   "metadata": {},
   "outputs": [
    {
     "name": "stdout",
     "output_type": "stream",
     "text": [
      "Joahnnes\n",
      "Raeuber Hotzenklotz\n"
     ]
    }
   ],
   "source": [
    "def ist_laenger(x,y):\n",
    "    if len(x) >= len(y):\n",
    "        return x\n",
    "    else:\n",
    "        return y\n",
    "    \n",
    "\n",
    "print(ist_laenger(\"Joahnnes\", \"Julia\"))\n",
    "print(ist_laenger(\"Raeuber Hotzenklotz\", \"Johannes\"))"
   ]
  },
  {
   "cell_type": "code",
   "execution_count": null,
   "id": "407d77a6",
   "metadata": {},
   "outputs": [
    {
     "name": "stdout",
     "output_type": "stream",
     "text": [
      "4\n"
     ]
    }
   ],
   "source": [
    "def absoluter_unterschied(x, y):\n",
    "    z = x - y\n",
    "    return abs(z)\n",
    "\n",
    "print(absoluter_unterschied(-5,-1))"
   ]
  },
  {
   "cell_type": "code",
   "execution_count": 4,
   "id": "0b34a50c",
   "metadata": {},
   "outputs": [
    {
     "name": "stdout",
     "output_type": "stream",
     "text": [
      "False\n",
      "True\n",
      "True\n"
     ]
    }
   ],
   "source": [
    "\n",
    "def anfangsbuchstabe(x):\n",
    "    if  x.startswith(\"A\"):\n",
    "        return True\n",
    "    else: \n",
    "        return False\n",
    "\n",
    "print(anfangsbuchstabe(\"Johannes\"))\n",
    "print(anfangsbuchstabe(\"Anna\"))\n",
    "print(anfangsbuchstabe(\"Annabelle\"))\n"
   ]
  },
  {
   "cell_type": "code",
   "execution_count": 18,
   "id": "3bc39c4a",
   "metadata": {},
   "outputs": [
    {
     "name": "stdout",
     "output_type": "stream",
     "text": [
      "False\n"
     ]
    }
   ],
   "source": [
    "\n",
    "\n",
    "def seitenlaengen(a, b, c):\n",
    "    return all(x > 0 for x in [a, b, c]) and a + b > c and a + c > b and b + c > a\n",
    "\n",
    "print(seitenlaengen(5, 3, 10))"
   ]
  }
 ],
 "metadata": {
  "kernelspec": {
   "display_name": "base",
   "language": "python",
   "name": "python3"
  },
  "language_info": {
   "codemirror_mode": {
    "name": "ipython",
    "version": 3
   },
   "file_extension": ".py",
   "mimetype": "text/x-python",
   "name": "python",
   "nbconvert_exporter": "python",
   "pygments_lexer": "ipython3",
   "version": "3.12.7"
  }
 },
 "nbformat": 4,
 "nbformat_minor": 5
}
